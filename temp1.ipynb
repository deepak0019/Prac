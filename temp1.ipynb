{
  "nbformat": 4,
  "nbformat_minor": 0,
  "metadata": {
    "colab": {
      "provenance": [],
      "gpuType": "T4"
    },
    "kernelspec": {
      "name": "python3",
      "display_name": "Python 3"
    },
    "language_info": {
      "name": "python"
    },
    "accelerator": "GPU"
  },
  "cells": [
    {
      "cell_type": "code",
      "execution_count": 3,
      "metadata": {
        "colab": {
          "base_uri": "https://localhost:8080/"
        },
        "id": "jjdoPj84kHC8",
        "outputId": "fbfad601-e145-4bc3-aaa9-1df451aef1a8"
      },
      "outputs": [
        {
          "output_type": "stream",
          "name": "stdout",
          "text": [
            "Collecting nvcc4jupyter\n",
            "  Downloading nvcc4jupyter-1.2.1-py3-none-any.whl (10 kB)\n",
            "Installing collected packages: nvcc4jupyter\n",
            "Successfully installed nvcc4jupyter-1.2.1\n"
          ]
        }
      ],
      "source": [
        "!pip install nvcc4jupyter"
      ]
    },
    {
      "cell_type": "code",
      "source": [
        "%load_ext nvcc4jupyter"
      ],
      "metadata": {
        "colab": {
          "base_uri": "https://localhost:8080/"
        },
        "id": "IhQjh85PkRUX",
        "outputId": "d3ea7bbd-ecdb-491d-a92a-3ddc3770bb57"
      },
      "execution_count": 4,
      "outputs": [
        {
          "output_type": "stream",
          "name": "stdout",
          "text": [
            "Detected platform \"Colab\". Running its setup...\n",
            "Source files will be saved in \"/tmp/tmpzpvqvy0k\".\n"
          ]
        }
      ]
    },
    {
      "cell_type": "code",
      "source": [
        "%%cuda\n",
        "#include<stdio.h>\n",
        "\n",
        "__global__ void matMul(int *a, int *b, int *c, int width)\n",
        "{\n",
        "    int row = blockIdx.y*blockDim.y + threadIdx.y;\n",
        "    int col = blockIdx.x*blockDim.x + threadIdx.x;\n",
        "\n",
        "\n",
        "    if(row < width && col < width)\n",
        "    {\n",
        "        int sum=0;\n",
        "\n",
        "        for(int i=0;i<width; i++)\n",
        "        {\n",
        "            sum+= a[row*width+i]*b[i*width+col];\n",
        "        }\n",
        "\n",
        "        c[row*width+col]=sum;\n",
        "    }\n",
        "}\n",
        "\n",
        "void displayMatrix(int *c, int width)\n",
        "{\n",
        "    for(int i=0;i<width;i++)\n",
        "    {\n",
        "        for(int j=0;j<width;j++)\n",
        "        {\n",
        "            printf(\"%d\\t\", c[i*width+j]);\n",
        "        }\n",
        "\n",
        "        printf(\"\\n\");\n",
        "    }\n",
        "}\n",
        "\n",
        "int main()\n",
        "{\n",
        "    const int width=3;\n",
        "\n",
        "    const int size = width*width*sizeof(int);\n",
        "\n",
        "    int h_mat1[width][width] = {{1, 2, 3}, {4, 5, 6}, {7, 8, 9}};\n",
        "\n",
        "    int h_mat2[width][width] = {{9, 8, 7}, {6, 5, 4}, {3, 2, 1}};\n",
        "    int h_result[width][width];\n",
        "\n",
        "    int *d_mat1, *d_mat2, *d_result;\n",
        "\n",
        "    cudaMalloc((void**)&d_mat1, size);\n",
        "    cudaMalloc((void**)&d_mat2, size);\n",
        "    cudaMalloc((void**)&d_result, size);\n",
        "\n",
        "    cudaMemcpy(d_mat1, h_mat1, size, cudaMemcpyHostToDevice);\n",
        "    cudaMemcpy(d_mat2, h_mat2, size, cudaMemcpyHostToDevice);\n",
        "\n",
        "    dim3 threadsPerBlock(16,16);\n",
        "    dim3 blocksPerGrid((width+15)/16, (width+15)/16);\n",
        "\n",
        "    matMul<<<blocksPerGrid,threadsPerBlock>>>(d_mat1, d_mat2, d_result, width);\n",
        "\n",
        "    cudaMemcpy(h_result,d_result,size,cudaMemcpyDeviceToHost);\n",
        "\n",
        "    displayMatrix((int *)h_result, width);\n",
        "\n",
        "    cudaFree(d_mat1);\n",
        "    cudaFree(d_mat2);\n",
        "    cudaFree(d_result);\n",
        "\n",
        "    return 0;\n",
        "\n",
        "}\n"
      ],
      "metadata": {
        "colab": {
          "base_uri": "https://localhost:8080/"
        },
        "id": "_pjkoyXJkngr",
        "outputId": "754569c4-5034-4add-ddcd-155946b605c3"
      },
      "execution_count": 6,
      "outputs": [
        {
          "output_type": "stream",
          "name": "stdout",
          "text": [
            "30\t24\t18\t\n",
            "84\t69\t54\t\n",
            "138\t114\t90\t\n",
            "\n"
          ]
        }
      ]
    },
    {
      "cell_type": "code",
      "source": [
        "\n"
      ],
      "metadata": {
        "id": "DOcZpFp8qLG_"
      },
      "execution_count": null,
      "outputs": []
    }
  ]
}